{
 "cells": [
  {
   "attachments": {},
   "cell_type": "markdown",
   "metadata": {},
   "source": [
    "# Social Laws Use Case Demo\n",
    "\n",
    "This notebook shows a demonstration of a realistic use case for social laws. In this demo we will synthesize a social law for a multi-agent pickup and delivery problem.\n",
    "\n",
    "\n",
    "The maps will be specified as a list of strings where \n",
    "* \\* denotes an obstacle\n",
    "* a lower case letter (a-z) denotes the initial position of an agent\n",
    "* an upper case letter (A-Z) denotes the goal position of the corresponding agent\n",
    "\n"
   ]
  },
  {
   "cell_type": "code",
   "execution_count": 15,
   "metadata": {},
   "outputs": [],
   "source": [
    "small_map = [\n",
    "\"****\",\n",
    "\"*BA*\",\n",
    "\"*ab*\",\n",
    "\"****\"\n",
    "]\n"
   ]
  },
  {
   "attachments": {},
   "cell_type": "markdown",
   "metadata": {},
   "source": [
    "We now define a function which converts the given map into a multi agent planning problem"
   ]
  },
  {
   "cell_type": "code",
   "execution_count": 16,
   "metadata": {},
   "outputs": [
    {
     "name": "stdout",
     "output_type": "stream",
     "text": [
      "problem name = MAPD\n",
      "\n",
      "types = [loc]\n",
      "\n",
      "environment fluents = [\n",
      "  bool connected[l1=loc, l2=loc]\n",
      "  bool free[l=loc]\n",
      "]\n",
      "\n",
      "agents = [\n",
      "  Agent name = a_a\n",
      "\n",
      "private fluents = [\n",
      " bool at[l1=loc]\n",
      "]\n",
      "\n",
      "public fluents = [\n",
      "]\n",
      "\n",
      "actions = [\n",
      " action move(loc l1, loc l2) {\n",
      "    preconditions = [\n",
      "      at(l1)\n",
      "      free(l2)\n",
      "      connected(l1, l2)\n",
      "    ]\n",
      "    effects = [\n",
      "      at(l2) := true\n",
      "      free(l2) := false\n",
      "      at(l1) := false\n",
      "      free(l1) := true\n",
      "    ]\n",
      "  }\n",
      "]\n",
      "\n",
      "\n",
      "  Agent name = a_b\n",
      "\n",
      "private fluents = [\n",
      " bool at[l1=loc]\n",
      "]\n",
      "\n",
      "public fluents = [\n",
      "]\n",
      "\n",
      "actions = [\n",
      " action move(loc l1, loc l2) {\n",
      "    preconditions = [\n",
      "      at(l1)\n",
      "      free(l2)\n",
      "      connected(l1, l2)\n",
      "    ]\n",
      "    effects = [\n",
      "      at(l2) := true\n",
      "      free(l2) := false\n",
      "      at(l1) := false\n",
      "      free(l1) := true\n",
      "    ]\n",
      "  }\n",
      "]\n",
      "\n",
      "\n",
      "]\n",
      "\n",
      "objects = [\n",
      "  loc: [l_0_0, l_0_1, l_0_2, l_0_3, l_1_0, l_1_1, l_1_2, l_1_3, l_2_0, l_2_1, l_2_2, l_2_3, l_3_0, l_3_1, l_3_2, l_3_3]\n",
      "]\n",
      "\n",
      "initial values = [\n",
      "  free(l_0_0) := false\n",
      "  free(l_0_1) := false\n",
      "  free(l_0_2) := false\n",
      "  free(l_0_3) := false\n",
      "  free(l_1_0) := false\n",
      "  free(l_1_3) := false\n",
      "  free(l_2_0) := false\n",
      "  a_a.at(l_2_1) := true\n",
      "  a_b.at(l_2_2) := true\n",
      "  free(l_2_3) := false\n",
      "  free(l_3_0) := false\n",
      "  free(l_3_1) := false\n",
      "  free(l_3_2) := false\n",
      "  free(l_3_3) := false\n",
      "  connected(l_0_0, l_1_0) := true\n",
      "  connected(l_0_0, l_0_1) := true\n",
      "  connected(l_0_1, l_1_1) := true\n",
      "  connected(l_0_1, l_0_0) := true\n",
      "  connected(l_0_1, l_0_2) := true\n",
      "  connected(l_0_2, l_1_2) := true\n",
      "  connected(l_0_2, l_0_1) := true\n",
      "  connected(l_0_2, l_0_3) := true\n",
      "  connected(l_0_3, l_1_3) := true\n",
      "  connected(l_0_3, l_0_2) := true\n",
      "  connected(l_1_0, l_0_0) := true\n",
      "  connected(l_1_0, l_2_0) := true\n",
      "  connected(l_1_0, l_1_1) := true\n",
      "  connected(l_1_1, l_0_1) := true\n",
      "  connected(l_1_1, l_2_1) := true\n",
      "  connected(l_1_1, l_1_0) := true\n",
      "  connected(l_1_1, l_1_2) := true\n",
      "  connected(l_1_2, l_0_2) := true\n",
      "  connected(l_1_2, l_2_2) := true\n",
      "  connected(l_1_2, l_1_1) := true\n",
      "  connected(l_1_2, l_1_3) := true\n",
      "  connected(l_1_3, l_0_3) := true\n",
      "  connected(l_1_3, l_2_3) := true\n",
      "  connected(l_1_3, l_1_2) := true\n",
      "  connected(l_2_0, l_1_0) := true\n",
      "  connected(l_2_0, l_3_0) := true\n",
      "  connected(l_2_0, l_2_1) := true\n",
      "  connected(l_2_1, l_1_1) := true\n",
      "  connected(l_2_1, l_3_1) := true\n",
      "  connected(l_2_1, l_2_0) := true\n",
      "  connected(l_2_1, l_2_2) := true\n",
      "  connected(l_2_2, l_1_2) := true\n",
      "  connected(l_2_2, l_3_2) := true\n",
      "  connected(l_2_2, l_2_1) := true\n",
      "  connected(l_2_2, l_2_3) := true\n",
      "  connected(l_2_3, l_1_3) := true\n",
      "  connected(l_2_3, l_3_3) := true\n",
      "  connected(l_2_3, l_2_2) := true\n",
      "  connected(l_3_0, l_2_0) := true\n",
      "  connected(l_3_0, l_3_1) := true\n",
      "  connected(l_3_1, l_2_1) := true\n",
      "  connected(l_3_1, l_3_0) := true\n",
      "  connected(l_3_1, l_3_2) := true\n",
      "  connected(l_3_2, l_2_2) := true\n",
      "  connected(l_3_2, l_3_1) := true\n",
      "  connected(l_3_2, l_3_3) := true\n",
      "  connected(l_3_3, l_2_3) := true\n",
      "  connected(l_3_3, l_3_2) := true\n",
      "]\n",
      "\n",
      "goals = [\n",
      "  a_b.at(l_1_1)\n",
      "  a_a.at(l_1_2)\n",
      "]\n",
      "\n",
      "\n",
      "waitfor: {}\n"
     ]
    }
   ],
   "source": [
    "from unified_planning.shortcuts import *\n",
    "from unified_planning.social_law.ma_problem_waitfor import MultiAgentProblemWithWaitfor\n",
    "from unified_planning.model.multi_agent import *\n",
    "import string\n",
    "up.environment.get_environment().credits_stream = None\n",
    "\n",
    "\n",
    "def mapToMaProblem(map):\n",
    "    problem = MultiAgentProblemWithWaitfor(\"MAPD\")\n",
    "\n",
    "    loc = UserType(\"loc\")\n",
    "    \n",
    "    # Environment     \n",
    "    connected = Fluent('connected', BoolType(), l1=loc, l2=loc)        \n",
    "    problem.ma_environment.add_fluent(connected, default_initial_value=False)\n",
    "\n",
    "    free = Fluent('free', BoolType(), l=loc)\n",
    "    problem.ma_environment.add_fluent(free, default_initial_value=True)\n",
    "\n",
    "\n",
    "\n",
    "\n",
    "    # Agents\n",
    "    at = Fluent('at', BoolType(), l1=loc)\n",
    "\n",
    "    move = InstantaneousAction('move', l1=loc, l2=loc)\n",
    "    l1 = move.parameter('l1')\n",
    "    l2 = move.parameter('l2')\n",
    "    move.add_precondition(at(l1))\n",
    "    move.add_precondition(free(l2))\n",
    "    move.add_precondition(connected(l1,l2))\n",
    "    move.add_effect(at(l2),True)\n",
    "    move.add_effect(free(l2), False)\n",
    "    move.add_effect(at(l1), False)\n",
    "    move.add_effect(free(l1), True)    \n",
    "\n",
    "\n",
    "    locmap = {}\n",
    "\n",
    "    for i,line in enumerate(map):\n",
    "        for j,cell in enumerate(line):\n",
    "            locname = \"l_\" + str(i) + \"_\" + str(j)\n",
    "            locobj = Object(locname, loc)\n",
    "            problem.add_object(locobj)\n",
    "            locmap[i,j] = locobj\n",
    "            if cell == \"*\":\n",
    "                problem.set_initial_value(free(locobj), False)\n",
    "            elif cell in string.ascii_lowercase:\n",
    "                agentname = \"a_\" + cell\n",
    "                agent = Agent(agentname, problem)\n",
    "                problem.add_agent(agent)\n",
    "                agent.add_fluent(at, default_initial_value=False)\n",
    "                agent.add_action(move)\n",
    "                problem.set_initial_value(Dot(agent, at(locobj)), True)\n",
    "    \n",
    "    for i,line in enumerate(map):\n",
    "        for j,cell in enumerate(line):\n",
    "            if cell in string.ascii_uppercase:\n",
    "                agentname = \"a_\" + cell.lower()\n",
    "                locobj = locmap[i,j]\n",
    "                agent = problem.agent(agentname)\n",
    "                problem.add_goal(Dot(agent, at(locobj)))\n",
    "\n",
    "\n",
    "    for i,j in locmap.keys():\n",
    "        for dx,dy in [(-1,0),(+1,0),(0,-1),(0,+1)]:\n",
    "            if (i+dx, j+dy) in locmap.keys():        \n",
    "                problem.set_initial_value(connected(locmap[i,j], locmap[i+dx,j+dy]), True)        \n",
    "\n",
    "    return problem\n",
    "\n",
    "\n",
    "problem = mapToMaProblem(small_map)\n",
    "print(problem)\n",
    "\n"
   ]
  },
  {
   "attachments": {},
   "cell_type": "markdown",
   "metadata": {},
   "source": [
    "## We can now synthesize a social law for the map"
   ]
  },
  {
   "cell_type": "code",
   "execution_count": 17,
   "metadata": {},
   "outputs": [
    {
     "name": "stdout",
     "output_type": "stream",
     "text": [
      "added_waitfors: set()\n",
      "disallowd actions: {('a_a', 'move', ('l_2_2', 'l_2_1')), ('a_b', 'move', ('l_2_2', 'l_1_2')), ('a_b', 'move', ('l_1_2', 'l_2_2')), ('a_a', 'move', ('l_1_2', 'l_1_1')), ('a_b', 'move', ('l_2_1', 'l_2_2')), ('a_b', 'move', ('l_1_2', 'l_1_1')), ('a_a', 'move', ('l_2_1', 'l_1_1')), ('a_a', 'move', ('l_1_1', 'l_1_2')), ('a_a', 'move', ('l_1_2', 'l_2_2'))}\n",
      "new fluents: set()\n",
      "new fluents initial vals: set()\n",
      "added action parameters: set()\n",
      "added preconditions: set()\n",
      "new objects: set()\n"
     ]
    }
   ],
   "source": [
    "from unified_planning.social_law.synthesis import get_gbfs_social_law_generator\n",
    "\n",
    "generator = get_gbfs_social_law_generator()\n",
    "robust_sl = generator.generate_social_law(problem)\n",
    "\n",
    "print(robust_sl)"
   ]
  },
  {
   "attachments": {},
   "cell_type": "markdown",
   "metadata": {},
   "source": [
    "## Let's see what the plan under the social law is"
   ]
  },
  {
   "cell_type": "code",
   "execution_count": 18,
   "metadata": {},
   "outputs": [
    {
     "name": "stdout",
     "output_type": "stream",
     "text": [
      "PlanGenerationResultStatus.SOLVED_SATISFICING\n",
      "SequentialPlan:\n",
      "    a_a.move(l_2_1, l_2_2)\n",
      "    a_b.move(l_2_2, l_2_1)\n",
      "    a_a.move(l_2_2, l_1_2)\n",
      "    a_b.move(l_2_1, l_1_1)\n"
     ]
    }
   ],
   "source": [
    "from unified_planning.social_law.robustness_checker import SocialLawRobustnessChecker\n",
    "slrc = SocialLawRobustnessChecker()\n",
    "\n",
    "new_problem = robust_sl.compile(problem).problem\n",
    "presult = slrc.solve(new_problem)\n",
    "print(presult.status)\n",
    "print(presult.plan)"
   ]
  },
  {
   "attachments": {},
   "cell_type": "markdown",
   "metadata": {},
   "source": [
    "## Now let's try a slightly bigger map"
   ]
  },
  {
   "cell_type": "code",
   "execution_count": 19,
   "metadata": {},
   "outputs": [
    {
     "name": "stdout",
     "output_type": "stream",
     "text": [
      "added_waitfors: set()\n",
      "disallowd actions: {('a_a', 'move', ('l_1_2', 'l_1_3')), ('a_b', 'move', ('l_2_3', 'l_1_3')), ('a_b', 'move', ('l_2_2', 'l_2_3')), ('a_a', 'move', ('l_2_2', 'l_2_3')), ('a_a', 'move', ('l_1_3', 'l_1_2')), ('a_b', 'move', ('l_1_3', 'l_1_2')), ('a_b', 'move', ('l_2_3', 'l_2_2')), ('a_a', 'move', ('l_2_1', 'l_1_1'))}\n",
      "new fluents: set()\n",
      "new fluents initial vals: set()\n",
      "added action parameters: set()\n",
      "added preconditions: set()\n",
      "new objects: set()\n"
     ]
    }
   ],
   "source": [
    "map = [\n",
    "\"*****\",\n",
    "\"*A b*\",\n",
    "\"*a B*\",\n",
    "\"*****\"\n",
    "]\n",
    "\n",
    "problem = mapToMaProblem(map)\n",
    "generator = get_gbfs_social_law_generator()\n",
    "robust_sl = generator.generate_social_law(problem)\n",
    "\n",
    "print(robust_sl)"
   ]
  },
  {
   "cell_type": "code",
   "execution_count": 20,
   "metadata": {},
   "outputs": [
    {
     "name": "stdout",
     "output_type": "stream",
     "text": [
      "PlanGenerationResultStatus.SOLVED_SATISFICING\n",
      "SequentialPlan:\n",
      "    a_b.move(l_1_3, l_2_3)\n",
      "    a_a.move(l_2_1, l_2_2)\n",
      "    a_a.move(l_2_2, l_1_2)\n",
      "    a_a.move(l_1_2, l_1_1)\n"
     ]
    }
   ],
   "source": [
    "new_problem = robust_sl.compile(problem).problem\n",
    "presult = slrc.solve(new_problem)\n",
    "print(presult.status)\n",
    "print(presult.plan)"
   ]
  },
  {
   "attachments": {},
   "cell_type": "markdown",
   "metadata": {},
   "source": [
    "## And now an even larger map"
   ]
  },
  {
   "cell_type": "code",
   "execution_count": 21,
   "metadata": {},
   "outputs": [],
   "source": [
    "large_map = [\n",
    "\"**************\",\n",
    "\"* B        A *\",\n",
    "\"*  *******   *\",\n",
    "\"* a        b *\",\n",
    "\"**************\"\n",
    "]\n",
    "\n",
    "problem = mapToMaProblem(large_map)\n",
    "generator = get_gbfs_social_law_generator()\n",
    "robust_sl = generator.generate_social_law(problem)\n",
    "\n",
    "print(robust_sl)\n",
    "\n",
    "new_problem = robust_sl.compile(problem).problem\n",
    "presult = slrc.solve(new_problem)\n",
    "print(presult.status)\n",
    "print(presult.plan)\n"
   ]
  }
 ],
 "metadata": {
  "kernelspec": {
   "display_name": "Python 3",
   "language": "python",
   "name": "python3"
  },
  "language_info": {
   "codemirror_mode": {
    "name": "ipython",
    "version": 3
   },
   "file_extension": ".py",
   "mimetype": "text/x-python",
   "name": "python",
   "nbconvert_exporter": "python",
   "pygments_lexer": "ipython3",
   "version": "3.10.6"
  },
  "orig_nbformat": 4
 },
 "nbformat": 4,
 "nbformat_minor": 2
}
