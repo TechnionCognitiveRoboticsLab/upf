{
 "cells": [
  {
   "cell_type": "markdown",
   "metadata": {},
   "source": [
    "# Social Laws\n",
    "\n",
    "This notebook shows a demonstration of social laws - a mechanism for coordinating multiple agents.\n",
    "\n",
    "We will demonstrate social laws on a simple example of a 2x2 grid, with 2 agents on it. \n",
    "The locations are:\n",
    "* nw (north west)\n",
    "* sw (south west)\n",
    "* ne (north east)\n",
    "* se (south east)\n",
    "\n",
    "Agent a1 want to get from nw to sw, and agent a2 wants to get from se to ne."
   ]
  },
  {
   "cell_type": "markdown",
   "metadata": {},
   "source": [
    "## Modeling Multi Agent Planning Problems for Social Laws\n",
    "\n",
    "One of the basic concepts of social laws is _waiting_, and so we extend the ``MultiAgentProblem`` class to include waitfor annotations, and create a class called ``MultiAgentProblemWithWaitfor``"
   ]
  },
  {
   "cell_type": "code",
   "execution_count": 15,
   "metadata": {},
   "outputs": [
    {
     "name": "stdout",
     "output_type": "stream",
     "text": [
      "problem name = simple_example\n",
      "\n",
      "types = [loc]\n",
      "\n",
      "environment fluents = [\n",
      "  bool connected[l1=loc, l2=loc]\n",
      "  bool free[l=loc]\n",
      "]\n",
      "\n",
      "agents = [\n",
      "  Agent name = a1\n",
      "\n",
      "fluents = [\n",
      " bool at[l1=loc]\n",
      "]\n",
      "\n",
      "actions = [\n",
      " action move(loc l1, loc l2) {\n",
      "    preconditions = [\n",
      "      at(l1)\n",
      "      free(l2)\n",
      "      connected(l1, l2)\n",
      "    ]\n",
      "    effects = [\n",
      "      at(l2) := true\n",
      "      free(l2) := false\n",
      "      at(l1) := false\n",
      "      free(l1) := true\n",
      "    ]\n",
      "    simulated effect = None\n",
      "  }\n",
      "]\n",
      "\n",
      "\n",
      "  Agent name = a2\n",
      "\n",
      "fluents = [\n",
      " bool at[l1=loc]\n",
      "]\n",
      "\n",
      "actions = [\n",
      " action move(loc l1, loc l2) {\n",
      "    preconditions = [\n",
      "      at(l1)\n",
      "      free(l2)\n",
      "      connected(l1, l2)\n",
      "    ]\n",
      "    effects = [\n",
      "      at(l2) := true\n",
      "      free(l2) := false\n",
      "      at(l1) := false\n",
      "      free(l1) := true\n",
      "    ]\n",
      "    simulated effect = None\n",
      "  }\n",
      "]\n",
      "\n",
      "\n",
      "]\n",
      "\n",
      "objects = [\n",
      "  loc: [nw, ne, sw, se]\n",
      "]\n",
      "\n",
      "initial values = [\n",
      "  connected(nw, ne) := true\n",
      "  connected(nw, sw) := true\n",
      "  connected(ne, nw) := true\n",
      "  connected(ne, se) := true\n",
      "  connected(sw, se) := true\n",
      "  connected(sw, nw) := true\n",
      "  connected(se, sw) := true\n",
      "  connected(se, ne) := true\n",
      "  a1.at(nw) := true\n",
      "  a2.at(se) := true\n",
      "  free(nw) := false\n",
      "  free(se) := false\n",
      "]\n",
      "\n",
      "goals = [\n",
      "  a1.at(sw)\n",
      "  a2.at(ne)\n",
      "]\n",
      "\n",
      "\n",
      "waitfor: {}\n"
     ]
    }
   ],
   "source": [
    "from unified_planning.shortcuts import *\n",
    "from unified_planning.social_law.ma_problem_waitfor import MultiAgentProblemWithWaitfor\n",
    "from unified_planning.model.multi_agent import *\n",
    "unified_planning.shortcuts.get_env().credits_stream = None\n",
    "\n",
    "problem = MultiAgentProblemWithWaitfor(\"simple_example\")\n",
    "\n",
    "loc = UserType(\"loc\")\n",
    "\n",
    "# Environment     \n",
    "connected = Fluent('connected', BoolType(), l1=loc, l2=loc)        \n",
    "problem.ma_environment.add_fluent(connected, default_initial_value=False)\n",
    "\n",
    "free = Fluent('free', BoolType(), l=loc)\n",
    "problem.ma_environment.add_fluent(free, default_initial_value=True)\n",
    "\n",
    "nw, ne, sw, se = Object(\"nw\", loc), Object(\"ne\", loc), Object(\"sw\", loc), Object(\"se\", loc)        \n",
    "problem.add_objects([nw, ne, sw, se])\n",
    "problem.set_initial_value(connected(nw, ne), True)\n",
    "problem.set_initial_value(connected(nw, sw), True)\n",
    "problem.set_initial_value(connected(ne, nw), True)\n",
    "problem.set_initial_value(connected(ne, se), True)\n",
    "problem.set_initial_value(connected(sw, se), True)\n",
    "problem.set_initial_value(connected(sw, nw), True)\n",
    "problem.set_initial_value(connected(se, sw), True)\n",
    "problem.set_initial_value(connected(se, ne), True)\n",
    "\n",
    "\n",
    "at = Fluent('at', BoolType(), l1=loc)\n",
    "\n",
    "move = InstantaneousAction('move', l1=loc, l2=loc)\n",
    "l1 = move.parameter('l1')\n",
    "l2 = move.parameter('l2')\n",
    "move.add_precondition(at(l1))\n",
    "move.add_precondition(free(l2))\n",
    "move.add_precondition(connected(l1,l2))\n",
    "move.add_effect(at(l2),True)\n",
    "move.add_effect(free(l2), False)\n",
    "move.add_effect(at(l1), False)\n",
    "move.add_effect(free(l1), True)    \n",
    "\n",
    "agent1 = Agent(\"a1\", problem)\n",
    "problem.add_agent(agent1)\n",
    "agent1.add_fluent(at, default_initial_value=False)\n",
    "agent1.add_action(move)\n",
    "\n",
    "agent2 = Agent(\"a2\", problem)\n",
    "problem.add_agent(agent2)\n",
    "agent2.add_fluent(at, default_initial_value=False)\n",
    "agent2.add_action(move)\n",
    "\n",
    "problem.set_initial_value(Dot(agent1, at(nw)), True)\n",
    "problem.set_initial_value(Dot(agent2, at(se)), True)\n",
    "problem.set_initial_value(free(nw), False)\n",
    "problem.set_initial_value(free(se), False)\n",
    "\n",
    "problem.add_goal(Dot(agent1, at(sw)))\n",
    "problem.add_goal(Dot(agent2, at(ne)))\n",
    "\n",
    "print(problem)"
   ]
  },
  {
   "cell_type": "markdown",
   "metadata": {},
   "source": [
    "## Checking for Robustness\n",
    "\n",
    "Social laws assume each agent plans individually, assuming the other agents do not perform any actions. A *robust* social law is one where this is guaranteed to produce correct plans.\n",
    "\n",
    "To check whether our simple example is robust, we can use the ``SocialLawRobustnessChecker`` class.\n",
    "\n",
    "``SocialLawRobustnessChecker`` first creates the single agent projection - a classical planning problem for each agent, assuming it is alone in the world, and solves them. If these are all solvable, it creates another classical planning problem which tries to get the agents to interfere with each other. If this problem is solvable, it provides a counter example to robustness. We can see the counterexample as actions from the original problems and as actions from the compilation - both have their uses."
   ]
  },
  {
   "cell_type": "code",
   "execution_count": 16,
   "metadata": {},
   "outputs": [
    {
     "name": "stdout",
     "output_type": "stream",
     "text": [
      "status= SocialLawRobustnessStatus.NON_ROBUST_MULTI_AGENT_FAIL\n",
      "counter example (original actions):  [move(nw, sw), move(se, sw), move(sw, se), move(se, ne)]\n",
      "counter example (compiled actions):  [s_a1_move(nw, sw), f1_a2_move(se, sw), pc_a2_move(sw, se), pc_a2_move(se, ne), end_s_a1, end_f_a2_0]\n"
     ]
    }
   ],
   "source": [
    "from unified_planning.social_law.robustness_checker import SocialLawRobustnessChecker\n",
    "\n",
    "slrc = SocialLawRobustnessChecker()\n",
    "\n",
    "result = slrc.is_robust(problem)\n",
    "\n",
    "print(\"status=\", result.status)\n",
    "print(\"counter example (original actions): \", result.counter_example_orig_actions)\n",
    "print(\"counter example (compiled actions): \", result.counter_example)\n"
   ]
  },
  {
   "cell_type": "markdown",
   "metadata": {},
   "source": []
  },
  {
   "cell_type": "markdown",
   "metadata": {},
   "source": [
    "## Applying Social Laws\n",
    "\n",
    "\n",
    "In this case, we see the result is ``NON_ROBUST_MULTI_AGENT_FAIL``, which indicates the agents interfered with each other - specifically, the action ``f1_a2_move(se, sw)`` indicates that agent 2 violated precondition number 1 (the second one - ``free(l2)``), and crashed into another agent.\n",
    "\n",
    "To remedy that, we can use the waitfor mechanism, to ensure each agent waits until its destination location is clear before moving into it.\n",
    "\n",
    "Instead of manually modifying the multi agent problem, we will utilize the ``SocialLaw`` class, which represents a modification to a multi-agent problem. \n",
    "``SocialLaw`` is implemented as a compiler, which takes a multi-agent problem, and output a modified multi-agent problem."
   ]
  },
  {
   "cell_type": "code",
   "execution_count": 17,
   "metadata": {},
   "outputs": [
    {
     "name": "stdout",
     "output_type": "stream",
     "text": [
      "problem name = sl_simple_example\n",
      "\n",
      "types = [loc]\n",
      "\n",
      "environment fluents = [\n",
      "  bool connected[l1=loc, l2=loc]\n",
      "  bool free[l=loc]\n",
      "]\n",
      "\n",
      "agents = [\n",
      "  Agent name = a1\n",
      "\n",
      "fluents = [\n",
      " bool at[l1=loc]\n",
      "]\n",
      "\n",
      "actions = [\n",
      " action move(loc l1, loc l2) {\n",
      "    preconditions = [\n",
      "      at(l1)\n",
      "      free(l2)\n",
      "      connected(l1, l2)\n",
      "    ]\n",
      "    effects = [\n",
      "      at(l2) := true\n",
      "      free(l2) := false\n",
      "      at(l1) := false\n",
      "      free(l1) := true\n",
      "    ]\n",
      "    simulated effect = None\n",
      "  }\n",
      "]\n",
      "\n",
      "\n",
      "  Agent name = a2\n",
      "\n",
      "fluents = [\n",
      " bool at[l1=loc]\n",
      "]\n",
      "\n",
      "actions = [\n",
      " action move(loc l1, loc l2) {\n",
      "    preconditions = [\n",
      "      at(l1)\n",
      "      free(l2)\n",
      "      connected(l1, l2)\n",
      "    ]\n",
      "    effects = [\n",
      "      at(l2) := true\n",
      "      free(l2) := false\n",
      "      at(l1) := false\n",
      "      free(l1) := true\n",
      "    ]\n",
      "    simulated effect = None\n",
      "  }\n",
      "]\n",
      "\n",
      "\n",
      "]\n",
      "\n",
      "objects = [\n",
      "  loc: [nw, ne, sw, se]\n",
      "]\n",
      "\n",
      "initial values = [\n",
      "  connected(nw, ne) := true\n",
      "  connected(nw, sw) := true\n",
      "  connected(ne, nw) := true\n",
      "  connected(ne, se) := true\n",
      "  connected(sw, se) := true\n",
      "  connected(sw, nw) := true\n",
      "  connected(se, sw) := true\n",
      "  connected(se, ne) := true\n",
      "  a1.at(nw) := true\n",
      "  a2.at(se) := true\n",
      "  free(nw) := false\n",
      "  free(se) := false\n",
      "]\n",
      "\n",
      "goals = [\n",
      "  a1.at(sw)\n",
      "  a2.at(ne)\n",
      "]\n",
      "\n",
      "\n",
      "waitfor: {('a2', 'move'): ['free(l2)'], ('a1', 'move'): ['free(l2)']}\n"
     ]
    }
   ],
   "source": [
    "from unified_planning.social_law.social_law import SocialLaw\n",
    "\n",
    "l = SocialLaw()\n",
    "\n",
    "for agent in problem.agents:\n",
    "    # Use only strings because this should work on any given problem, and note the extra comment to make (\"l2\",) a tuple (as (\"l2\") is interpreted as \"l2\" )\n",
    "    l.add_waitfor_annotation(agent.name, \"move\", \"free\", (\"l2\",)) \n",
    "    \n",
    "new_problem = l.compile(problem).problem\n",
    "\n",
    "print(new_problem)"
   ]
  },
  {
   "cell_type": "markdown",
   "metadata": {},
   "source": [
    "We can now call the robustness verification procedure again, to see whether the system (with the new waitfor conditions) is robust."
   ]
  },
  {
   "cell_type": "code",
   "execution_count": 18,
   "metadata": {},
   "outputs": [
    {
     "name": "stdout",
     "output_type": "stream",
     "text": [
      "SocialLawRobustnessStatus.NON_ROBUST_MULTI_AGENT_DEADLOCK\n",
      "[s_a2_move(se, ne), w0_a1_move(nw, ne), pw_a1_move(ne, nw), pw_a1_move(nw, sw), end_f_a1_0, end_s_a2]\n"
     ]
    }
   ],
   "source": [
    "result = slrc.is_robust(new_problem)\n",
    "\n",
    "print(result.status)\n",
    "print(result.counter_example)"
   ]
  },
  {
   "cell_type": "markdown",
   "metadata": {},
   "source": [
    "The result now is a deadlock (``NON_ROBUST_MULTI_AGENT_DEADLOCK``), caused by agent 1 trying to drive into agent 2's goal, after agent 2 is already there.\n",
    "\n",
    "We can keep trying to manually add to the social law, but instead we will automatically synthesize a robust social law."
   ]
  },
  {
   "cell_type": "markdown",
   "metadata": {},
   "source": [
    "## Automatically Synthesizing Robust Social Laws\n",
    "\n",
    "The ``SocialLawGenerator`` searches through the space of possible social laws (trying to disallow grounded actions), until it finds a social law which is robust.\n",
    "It supports various search algorithms and heuristics, but the ``get_gbfs_social_law_generator`` method generates a greedy best first search with the available heuristics.\n",
    "\n",
    "Calling ``SocialLawGenerator.generate_social_law`` returns a social law which is robust (or ``None`` if it can not find one)"
   ]
  },
  {
   "cell_type": "code",
   "execution_count": 19,
   "metadata": {},
   "outputs": [
    {
     "name": "stdout",
     "output_type": "stream",
     "text": [
      "added_waitfors: set()\n",
      "disallowd actions: {('a1', 'move', ('nw', 'ne')), ('a2', 'move', ('se', 'sw'))}\n",
      "new fluents: set()\n",
      "new fluents initial vals: set()\n",
      "added action parameters: set()\n",
      "added preconditions: set()\n",
      "new objects: set()\n"
     ]
    }
   ],
   "source": [
    "from unified_planning.social_law.synthesis import SocialLawGenerator, get_gbfs_social_law_generator\n",
    "\n",
    "generator = get_gbfs_social_law_generator()\n",
    "robust_sl = generator.generate_social_law(problem)\n",
    "\n",
    "print(robust_sl)\n",
    "\n"
   ]
  },
  {
   "cell_type": "markdown",
   "metadata": {},
   "source": [
    "In this case, the social law forbids agent 2 from going from se to sw, and agent1 from going from nw to ne.\n",
    "We can apply this social law to get a robust multi agent problem."
   ]
  },
  {
   "cell_type": "code",
   "execution_count": 20,
   "metadata": {},
   "outputs": [
    {
     "name": "stdout",
     "output_type": "stream",
     "text": [
      "problem name = sl_simple_example\n",
      "\n",
      "types = [loc]\n",
      "\n",
      "environment fluents = [\n",
      "  bool connected[l1=loc, l2=loc]\n",
      "  bool free[l=loc]\n",
      "]\n",
      "\n",
      "agents = [\n",
      "  Agent name = a1\n",
      "\n",
      "fluents = [\n",
      " bool at[l1=loc]\n",
      " bool allowed__move[l1=loc, l2=loc]\n",
      "]\n",
      "\n",
      "actions = [\n",
      " action move(loc l1, loc l2) {\n",
      "    preconditions = [\n",
      "      at(l1)\n",
      "      free(l2)\n",
      "      connected(l1, l2)\n",
      "      allowed__move(l1, l2)\n",
      "    ]\n",
      "    effects = [\n",
      "      at(l2) := true\n",
      "      free(l2) := false\n",
      "      at(l1) := false\n",
      "      free(l1) := true\n",
      "    ]\n",
      "    simulated effect = None\n",
      "  }\n",
      "]\n",
      "\n",
      "\n",
      "  Agent name = a2\n",
      "\n",
      "fluents = [\n",
      " bool at[l1=loc]\n",
      " bool allowed__move[l1=loc, l2=loc]\n",
      "]\n",
      "\n",
      "actions = [\n",
      " action move(loc l1, loc l2) {\n",
      "    preconditions = [\n",
      "      at(l1)\n",
      "      free(l2)\n",
      "      connected(l1, l2)\n",
      "      allowed__move(l1, l2)\n",
      "    ]\n",
      "    effects = [\n",
      "      at(l2) := true\n",
      "      free(l2) := false\n",
      "      at(l1) := false\n",
      "      free(l1) := true\n",
      "    ]\n",
      "    simulated effect = None\n",
      "  }\n",
      "]\n",
      "\n",
      "\n",
      "]\n",
      "\n",
      "objects = [\n",
      "  loc: [nw, ne, sw, se]\n",
      "]\n",
      "\n",
      "initial values = [\n",
      "  connected(nw, ne) := true\n",
      "  connected(nw, sw) := true\n",
      "  connected(ne, nw) := true\n",
      "  connected(ne, se) := true\n",
      "  connected(sw, se) := true\n",
      "  connected(sw, nw) := true\n",
      "  connected(se, sw) := true\n",
      "  connected(se, ne) := true\n",
      "  a1.at(nw) := true\n",
      "  a2.at(se) := true\n",
      "  free(nw) := false\n",
      "  free(se) := false\n",
      "  a1.allowed__move(nw, ne) := false\n",
      "  a2.allowed__move(se, sw) := false\n",
      "]\n",
      "\n",
      "goals = [\n",
      "  a1.at(sw)\n",
      "  a2.at(ne)\n",
      "]\n",
      "\n",
      "\n",
      "waitfor: {('a1', 'move'): ['allowed__move(l1, l2)'], ('a2', 'move'): ['allowed__move(l1, l2)']}\n"
     ]
    }
   ],
   "source": [
    "robust_problem = robust_sl.compile(problem).problem\n",
    "print(robust_problem)"
   ]
  },
  {
   "cell_type": "markdown",
   "metadata": {},
   "source": [
    "## Planning using robust multi-agent systems\n",
    "\n",
    "Now that we have a robust multi-agent system, we can be assured that our simple planning strategy of planning for each agent alone, and then combining the plans, is guaranteed to work. This can be done using the same ``SocialLawRobustnessChecker``, which is one a OneShotPlanner"
   ]
  },
  {
   "cell_type": "code",
   "execution_count": 21,
   "metadata": {},
   "outputs": [
    {
     "name": "stdout",
     "output_type": "stream",
     "text": [
      "PlanGenerationResultStatus.SOLVED_SATISFICING\n",
      "[a1.move(nw, sw), a2.move(se, ne)]\n"
     ]
    }
   ],
   "source": [
    "presult = slrc.solve(robust_problem)\n",
    "\n",
    "print(presult.status)\n",
    "print(presult.plan)"
   ]
  }
 ],
 "metadata": {
  "kernelspec": {
   "display_name": "Python 3.8.10 64-bit",
   "language": "python",
   "name": "python3"
  },
  "language_info": {
   "codemirror_mode": {
    "name": "ipython",
    "version": 3
   },
   "file_extension": ".py",
   "mimetype": "text/x-python",
   "name": "python",
   "nbconvert_exporter": "python",
   "pygments_lexer": "ipython3",
   "version": "3.8.10"
  },
  "orig_nbformat": 4,
  "vscode": {
   "interpreter": {
    "hash": "e7370f93d1d0cde622a1f8e1c04877d8463912d04d973331ad4851f04de6915a"
   }
  }
 },
 "nbformat": 4,
 "nbformat_minor": 2
}
